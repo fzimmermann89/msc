{
 "cells": [
  {
   "cell_type": "code",
   "execution_count": null,
   "metadata": {},
   "outputs": [],
   "source": [
    "import numpy as np\n",
    "import matplotlib.pyplot as plt\n",
    "from scipy.special import gamma\n",
    "from scipy.stats import poisson"
   ]
  },
  {
   "cell_type": "code",
   "execution_count": null,
   "metadata": {},
   "outputs": [],
   "source": [
    "x=np.arange(0,5)\n",
    "mu=.1"
   ]
  },
  {
   "cell_type": "code",
   "execution_count": null,
   "metadata": {},
   "outputs": [],
   "source": [
    "plt.bar(x,poisson.pmf(x,mu))"
   ]
  },
  {
   "cell_type": "code",
   "execution_count": null,
   "metadata": {},
   "outputs": [],
   "source": [
    "import scipy.stats"
   ]
  },
  {
   "cell_type": "code",
   "execution_count": null,
   "metadata": {},
   "outputs": [],
   "source": [
    "from scipy.stats import nbinom"
   ]
  },
  {
   "cell_type": "code",
   "execution_count": null,
   "metadata": {},
   "outputs": [],
   "source": [
    "def nb(x,mu,M):\n",
    "    r=M\n",
    "    p=r/(mu+r)\n",
    "    return nbinom.pmf(x,r,p)"
   ]
  },
  {
   "cell_type": "code",
   "execution_count": null,
   "metadata": {},
   "outputs": [],
   "source": [
    "mu=.1\n",
    "x=np.arange(0,10)\n",
    "\n",
    "plt.step(x-.5,poisson.pmf(x,mu),'-',label='poisson')\n",
    "Ms=[1,2,5,10,50,100]\n",
    "for i in Ms:\n",
    "    plt.step(x-.5,nb(x,mu,i),'-',label=f\"M={i}\")\n",
    "    \n",
    "plt.legend()\n",
    "plt.yscale('log')\n",
    "plt.xticks(x,[str(i) for i in x])\n",
    "plt.xlim(-.5,max(x)-.5)\n"
   ]
  },
  {
   "cell_type": "code",
   "execution_count": null,
   "metadata": {},
   "outputs": [],
   "source": [
    "Ms=[1,2,5,10,100]\n",
    "plt.figure(figsize=(8,4))\n",
    "\n",
    "for i,M in enumerate(Ms):\n",
    "    off=(i)*1/(len(Ms)+3)\n",
    "    plt.bar(x+off,nb(x,mu,M),label=f\"M={M}\",width=1/(1.3*(len(Ms)+3)))\n",
    "\n",
    "\n",
    "plt.bar(x+(i+1)*1/(len(Ms)+3),poisson.pmf(x,mu),label='Poisson',width=1/(1.3*(len(Ms)+3)))\n",
    "plt.yscale('log')\n",
    "\n",
    "plt.xticks(x+0.3,[str(i) for i in x])\n",
    "plt.xlabel('Photon Count')\n",
    "plt.ylabel('Frequency')\n",
    "\n",
    "plt.legend()\n",
    "plt.tight_layout()\n",
    "plt.savefig('../modes.pdf')"
   ]
  },
  {
   "cell_type": "code",
   "execution_count": null,
   "metadata": {},
   "outputs": [],
   "source": [
    "M=10\n",
    "mu=2\n",
    "\n",
    "v=mu+mu**2/M\n",
    "nbinom(r,p).stats(moments='mv'),v"
   ]
  },
  {
   "cell_type": "code",
   "execution_count": null,
   "metadata": {},
   "outputs": [],
   "source": [
    "p*r/(1-p)"
   ]
  },
  {
   "cell_type": "code",
   "execution_count": null,
   "metadata": {},
   "outputs": [],
   "source": [
    "n*((1.0 / p) - 1.0)\n"
   ]
  },
  {
   "cell_type": "code",
   "execution_count": null,
   "metadata": {},
   "outputs": [],
   "source": [
    "P"
   ]
  },
  {
   "cell_type": "code",
   "execution_count": null,
   "metadata": {},
   "outputs": [],
   "source": [
    "v=2\n",
    "mu=1\n",
    "v=(1 + 1/r)*mu\n",
    "p=(v-mu)/v\n",
    "r=mu/(v-mu)"
   ]
  },
  {
   "cell_type": "code",
   "execution_count": null,
   "metadata": {},
   "outputs": [],
   "source": [
    "nbinom(r,p).stats(moments='mv')"
   ]
  },
  {
   "cell_type": "code",
   "execution_count": null,
   "metadata": {},
   "outputs": [],
   "source": []
  }
 ],
 "metadata": {
  "kernelspec": {
   "display_name": "Python 3",
   "language": "python",
   "name": "python3"
  },
  "language_info": {
   "codemirror_mode": {
    "name": "ipython",
    "version": 3
   },
   "file_extension": ".py",
   "mimetype": "text/x-python",
   "name": "python",
   "nbconvert_exporter": "python",
   "pygments_lexer": "ipython3",
   "version": "3.8.4"
  }
 },
 "nbformat": 4,
 "nbformat_minor": 4
}
